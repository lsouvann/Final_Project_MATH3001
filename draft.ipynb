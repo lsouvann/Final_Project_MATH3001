{
 "cells": [
  {
   "cell_type": "markdown",
   "metadata": {},
   "source": [
    "## Final Project Draft\n"
   ]
  },
  {
   "cell_type": "markdown",
   "metadata": {},
   "source": [
    "### Function"
   ]
  },
  {
   "cell_type": "markdown",
   "metadata": {},
   "source": [
    "### Function with Monta Carlo Simulation"
   ]
  },
  {
   "cell_type": "code",
   "execution_count": 31,
   "metadata": {},
   "outputs": [
    {
     "data": {
      "text/plain": [
       "Main.Futurama"
      ]
     },
     "metadata": {},
     "output_type": "display_data"
    }
   ],
   "source": [
    "module Futurama\n",
    "\n",
    "export find_cycles, resolve_swaps, simulate_monte_carlo\n",
    "\n",
    "# Detect cycles in a permutation\n",
    "function find_cycles(permutation::Vector{Int})\n",
    "    visited = falses(length(permutation))\n",
    "    cycles = []\n",
    "\n",
    "    for i in 1:length(permutation)\n",
    "        if !visited[i]\n",
    "            cycle = []\n",
    "            current = i\n",
    "            while !visited[current]\n",
    "                push!(cycle, current)\n",
    "                visited[current] = true\n",
    "                current = permutation[current]\n",
    "            end\n",
    "            push!(cycles, cycle)\n",
    "        end\n",
    "    end\n",
    "\n",
    "    return cycles\n",
    "end\n",
    "\n",
    "# Resolve swaps and count steps\n",
    "function resolve_swaps(permutation::Vector{Int})\n",
    "    cycles = find_cycles(permutation)\n",
    "    steps = []\n",
    "\n",
    "    # Define auxiliary participants\n",
    "    aux1 = length(permutation) + 1\n",
    "    aux2 = aux1 + 1\n",
    "\n",
    "    for cycle in cycles\n",
    "        if length(cycle) > 1  # Skip trivial cycles\n",
    "            for i in 1:length(cycle) - 1\n",
    "                push!(steps, (cycle[i], aux1))       # Swap current person with aux1\n",
    "                push!(steps, (cycle[i + 1], aux2))   # Swap next person with aux2\n",
    "                push!(steps, (aux1, aux2))           # Swap aux1 and aux2\n",
    "            end\n",
    "        end\n",
    "    end\n",
    "\n",
    "    return steps\n",
    "end\n",
    "\n",
    "# Monte Carlo Simulation\n",
    "function simulate_monte_carlo(num_participants::Int, trials::Int)\n",
    "    steps_data = []\n",
    "    cycle_lengths = []\n",
    "\n",
    "    for _ in 1:trials\n",
    "        permutation = randperm(num_participants)\n",
    "        cycles = find_cycles(permutation)\n",
    "        push!(steps_data, length(resolve_swaps(permutation)))\n",
    "        push!(cycle_lengths, [length(c) for c in cycles])\n",
    "    end\n",
    "\n",
    "    return steps_data, cycle_lengths\n",
    "end\n",
    "\n",
    "end"
   ]
  },
  {
   "cell_type": "markdown",
   "metadata": {},
   "source": [
    "### Test case with small number of participants"
   ]
  },
  {
   "cell_type": "code",
   "execution_count": 32,
   "metadata": {},
   "outputs": [
    {
     "ename": "SystemError",
     "evalue": "SystemError: opening file \"c:\\\\Users\\\\User\\\\Documents\\\\Sci Comp and Visual\\\\FinalProject\\\\Final_Project_MATH3001\\\\Futurama.jl\": No such file or directory",
     "output_type": "error",
     "traceback": [
      "SystemError: opening file \"c:\\\\Users\\\\User\\\\Documents\\\\Sci Comp and Visual\\\\FinalProject\\\\Final_Project_MATH3001\\\\Futurama.jl\": No such file or directory\n",
      "\n",
      "Stacktrace:\n",
      "  [1] systemerror(p::String, errno::Int32; extrainfo::Nothing)\n",
      "    @ Base .\\error.jl:176\n",
      "  [2] systemerror\n",
      "    @ .\\error.jl:175 [inlined]\n",
      "  [3] open(fname::String; lock::Bool, read::Nothing, write::Nothing, create::Nothing, truncate::Nothing, append::Nothing)\n",
      "    @ Base .\\iostream.jl:293\n",
      "  [4] open\n",
      "    @ .\\iostream.jl:275 [inlined]\n",
      "  [5] open(f::Base.var\"#433#434\"{String}, args::String; kwargs::@Kwargs{})\n",
      "    @ Base .\\io.jl:394\n",
      "  [6] open\n",
      "    @ .\\io.jl:393 [inlined]\n",
      "  [7] read\n",
      "    @ .\\io.jl:486 [inlined]\n",
      "  [8] _include(mapexpr::Function, mod::Module, _path::String)\n",
      "    @ Base .\\loading.jl:2132\n",
      "  [9] include(fname::String)\n",
      "    @ Base.MainInclude .\\client.jl:489\n",
      " [10] top-level scope\n",
      "    @ c:\\Users\\User\\Documents\\Sci Comp and Visual\\FinalProject\\Final_Project_MATH3001\\jl_notebook_cell_df34fa98e69747e1a8f8a730347b8e2f_X16sZmlsZQ==.jl:1"
     ]
    }
   ],
   "source": [
    "include(\"Futurama.jl\")\n",
    "using .Futurama\n",
    "using Test\n",
    "\n",
    "# Test cases for find_cycles\n",
    "@testset \"find_cycles Tests\" begin\n",
    "    @test find_cycles([2, 3, 1, 4]) == [[1, 2, 3], [4]]\n",
    "    @test find_cycles([3, 1, 2]) == [[1, 3, 2]]\n",
    "    @test find_cycles([1, 2, 3]) == [[1], [2], [3]]\n",
    "end\n",
    "\n",
    "# Test cases for resolve_swaps\n",
    "@testset \"resolve_swaps Tests\" begin\n",
    "    @test resolve_swaps([2, 3, 1, 4]) == [(1, 5), (2, 6), (5, 6), (2, 5), (3, 6), (5, 6)]\n",
    "    @test resolve_swaps([3, 1, 2]) == [(1, 4), (3, 5), (4, 5), (3, 4), (2, 5), (4, 5)]\n",
    "    @test resolve_swaps([1, 2, 3]) == []\n",
    "end\n",
    "\n",
    "# Test cases for simulate_monte_carlo\n",
    "@testset \"simulate_monte_carlo Tests\" begin\n",
    "    steps_data, cycle_lengths = simulate_monte_carlo(4, 10)\n",
    "\n",
    "    # Check that the number of trials matches the input\n",
    "    @test length(steps_data) == 10\n",
    "    @test length(cycle_lengths) == 10\n",
    "\n",
    "    # Check that each result has valid lengths\n",
    "    for cycles in cycle_lengths\n",
    "        total_length = sum(cycles)\n",
    "        @test total_length == 4  # Number of participants\n",
    "    end\n",
    "end"
   ]
  }
 ],
 "metadata": {
  "kernelspec": {
   "display_name": "Julia 1.10.5",
   "language": "julia",
   "name": "julia-1.10"
  },
  "language_info": {
   "file_extension": ".jl",
   "mimetype": "application/julia",
   "name": "julia",
   "version": "1.10.5"
  }
 },
 "nbformat": 4,
 "nbformat_minor": 2
}
