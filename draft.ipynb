{
 "cells": [
  {
   "cell_type": "markdown",
   "metadata": {},
   "source": [
    "## Final Project Draft\n"
   ]
  },
  {
   "cell_type": "markdown",
   "metadata": {},
   "source": [
    "### Function"
   ]
  },
  {
   "cell_type": "markdown",
   "metadata": {},
   "source": [
    "### Function with Monta Carlo Simulation"
   ]
  },
  {
   "cell_type": "code",
   "execution_count": 16,
   "metadata": {},
   "outputs": [
    {
     "name": "stderr",
     "output_type": "stream",
     "text": [
      "WARNING: replacing module FuturamaTheorem.\n"
     ]
    },
    {
     "data": {
      "text/plain": [
       "Main.FuturamaTheorem"
      ]
     },
     "metadata": {},
     "output_type": "display_data"
    }
   ],
   "source": [
    "module FuturamaTheorem\n",
    "\n",
    "export find_cycles, resolve_swaps, simulate_monte_carlo\n",
    "\n",
    "# Detect cycles in a permutation\n",
    "function find_cycles(permutation::Vector{Int})\n",
    "    visited = falses(length(permutation))\n",
    "    cycles = []\n",
    "\n",
    "    for i in 1:length(permutation)\n",
    "        if !visited[i]\n",
    "            cycle = []\n",
    "            current = i\n",
    "            while !visited[current]\n",
    "                push!(cycle, current)\n",
    "                visited[current] = true\n",
    "                current = permutation[current]\n",
    "            end\n",
    "            push!(cycles, cycle)\n",
    "        end\n",
    "    end\n",
    "    return cycles\n",
    "end\n",
    "\n",
    "# Resolve cycles using auxiliary participants\n",
    "function resolve_swaps(permutation::Vector{Int})\n",
    "    cycles = find_cycles(permutation)\n",
    "    steps = []\n",
    "\n",
    "    if length(cycles) <= 1\n",
    "        return steps\n",
    "    end\n",
    "\n",
    "    aux1 = length(permutation) + 1\n",
    "    aux2 = aux1 + 1\n",
    "\n",
    "    for cycle in cycles\n",
    "        for i in 1:length(cycle) - 1\n",
    "            push!(steps, (cycle[i], aux1))\n",
    "            push!(steps, (cycle[i + 1], aux2))\n",
    "            push!(steps, (aux1, aux2))\n",
    "        end\n",
    "    end\n",
    "\n",
    "    return steps\n",
    "end\n",
    "\n",
    "# Monte Carlo Simulation\n",
    "function simulate_monte_carlo(num_participants::Int, trials::Int)\n",
    "    steps_data = []\n",
    "    cycle_lengths = []\n",
    "\n",
    "    for _ in 1:trials\n",
    "        permutation = randperm(num_participants)\n",
    "        cycles = find_cycles(permutation)\n",
    "        push!(steps_data, length(resolve_swaps(permutation)))\n",
    "        push!(cycle_lengths, [length(c) for c in cycles])\n",
    "    end\n",
    "\n",
    "    return steps_data, cycle_lengths\n",
    "end\n",
    "\n",
    "end"
   ]
  },
  {
   "cell_type": "markdown",
   "metadata": {},
   "source": [
    "### Monte Carlo Simulation"
   ]
  },
  {
   "cell_type": "code",
   "execution_count": null,
   "metadata": {},
   "outputs": [],
   "source": []
  }
 ],
 "metadata": {
  "kernelspec": {
   "display_name": "Julia 1.10.5",
   "language": "julia",
   "name": "julia-1.10"
  },
  "language_info": {
   "file_extension": ".jl",
   "mimetype": "application/julia",
   "name": "julia",
   "version": "1.10.5"
  }
 },
 "nbformat": 4,
 "nbformat_minor": 2
}
